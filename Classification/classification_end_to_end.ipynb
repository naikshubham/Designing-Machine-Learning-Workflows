{
 "cells": [
  {
   "cell_type": "code",
   "execution_count": 1,
   "metadata": {},
   "outputs": [],
   "source": [
    "# Common imports\n",
    "import pandas as pd\n",
    "import numpy as np\n",
    "import os\n",
    "\n",
    "# to make this notebook's output stable across runs\n",
    "np.random.seed(42)\n",
    "\n",
    "# To plot pretty figures\n",
    "%matplotlib inline\n",
    "import matplotlib as mpl\n",
    "import matplotlib.pyplot as plt\n",
    "mpl.rc('axes', labelsize=14)\n",
    "mpl.rc('xtick', labelsize=12)\n",
    "mpl.rc('ytick', labelsize=12)\n",
    "\n",
    "# Where to save the figures\n",
    "PROJECT_ROOT_DIR = \".\"\n",
    "IMAGES_PATH = os.path.join(PROJECT_ROOT_DIR, \"images\",)\n",
    "os.makedirs(IMAGES_PATH, exist_ok=True)\n",
    "\n",
    "def save_fig(fig_id, tight_layout=True, fig_extension=\"png\", resolution=300):\n",
    "    path = os.path.join(IMAGES_PATH, fig_id + \".\" + fig_extension)\n",
    "    print(\"Saving figure\", fig_id)\n",
    "    if tight_layout:\n",
    "        plt.tight_layout()\n",
    "    plt.savefig(path, format=fig_extension, dpi=resolution)"
   ]
  },
  {
   "cell_type": "markdown",
   "metadata": {},
   "source": [
    "#### Load data"
   ]
  },
  {
   "cell_type": "code",
   "execution_count": 2,
   "metadata": {},
   "outputs": [],
   "source": [
    "def load_data():\n",
    "    data = pd.read_csv('spill_incidents_sample.csv')\n",
    "    return data"
   ]
  },
  {
   "cell_type": "markdown",
   "metadata": {},
   "source": [
    "#### Create target variable\n",
    "- The dataset has a column “recovered”. Recovered can be greater than 0(YES) or equals to 0 (NO)."
   ]
  },
  {
   "cell_type": "code",
   "execution_count": 3,
   "metadata": {},
   "outputs": [],
   "source": [
    "def transform_target(df):\n",
    "    df['recovered'] = df['recovered'].apply(lambda x:'YES' if x >0 else 'NO')\n",
    "    return df\n",
    "\n",
    "data = load_data()\n",
    "data = transform_target(data)\n",
    "data.drop('Unnamed: 0', axis=1, inplace=True)\n",
    "data.to_csv('spill_incidents_sample_with_target.csv', index=False)\n"
   ]
  },
  {
   "cell_type": "markdown",
   "metadata": {},
   "source": [
    "#### Data overview"
   ]
  },
  {
   "cell_type": "code",
   "execution_count": 4,
   "metadata": {},
   "outputs": [
    {
     "data": {
      "text/html": [
       "<div>\n",
       "<style scoped>\n",
       "    .dataframe tbody tr th:only-of-type {\n",
       "        vertical-align: middle;\n",
       "    }\n",
       "\n",
       "    .dataframe tbody tr th {\n",
       "        vertical-align: top;\n",
       "    }\n",
       "\n",
       "    .dataframe thead th {\n",
       "        text-align: right;\n",
       "    }\n",
       "</style>\n",
       "<table border=\"1\" class=\"dataframe\">\n",
       "  <thead>\n",
       "    <tr style=\"text-align: right;\">\n",
       "      <th></th>\n",
       "      <th>spill_number</th>\n",
       "      <th>program_facility_name</th>\n",
       "      <th>street_1</th>\n",
       "      <th>street_2</th>\n",
       "      <th>locality</th>\n",
       "      <th>county</th>\n",
       "      <th>zip_code</th>\n",
       "      <th>swis_code</th>\n",
       "      <th>dec_region</th>\n",
       "      <th>spill_date</th>\n",
       "      <th>received_date</th>\n",
       "      <th>contributing_factor</th>\n",
       "      <th>waterbody</th>\n",
       "      <th>source</th>\n",
       "      <th>close_date</th>\n",
       "      <th>material_name</th>\n",
       "      <th>material_family</th>\n",
       "      <th>quantity</th>\n",
       "      <th>units</th>\n",
       "      <th>recovered</th>\n",
       "    </tr>\n",
       "  </thead>\n",
       "  <tbody>\n",
       "    <tr>\n",
       "      <th>187666</th>\n",
       "      <td>9707739</td>\n",
       "      <td>KIKARI DENTAL RT 30 AGWAY</td>\n",
       "      <td>4340 RT 30 NORTH</td>\n",
       "      <td>NaN</td>\n",
       "      <td>AMSTERDAM</td>\n",
       "      <td>Montgomery</td>\n",
       "      <td>NaN</td>\n",
       "      <td>2920</td>\n",
       "      <td>4</td>\n",
       "      <td>1997-09-30</td>\n",
       "      <td>1997-09-30</td>\n",
       "      <td>Tank Overfill</td>\n",
       "      <td>NaN</td>\n",
       "      <td>Tank Truck</td>\n",
       "      <td>1997-10-03</td>\n",
       "      <td>#2 fuel oil</td>\n",
       "      <td>Petroleum</td>\n",
       "      <td>0.0</td>\n",
       "      <td>Gallons</td>\n",
       "      <td>NO</td>\n",
       "    </tr>\n",
       "    <tr>\n",
       "      <th>187667</th>\n",
       "      <td>1209420</td>\n",
       "      <td>POLE TOP</td>\n",
       "      <td>29 QUARRY LANE</td>\n",
       "      <td>NaN</td>\n",
       "      <td>BEDFORD</td>\n",
       "      <td>Westchester</td>\n",
       "      <td>NaN</td>\n",
       "      <td>6020</td>\n",
       "      <td>3</td>\n",
       "      <td>2012-11-06</td>\n",
       "      <td>2012-11-06</td>\n",
       "      <td>Storm</td>\n",
       "      <td>NaN</td>\n",
       "      <td>Transformer</td>\n",
       "      <td>2012-11-09</td>\n",
       "      <td>dielectric fluid</td>\n",
       "      <td>Petroleum</td>\n",
       "      <td>10.0</td>\n",
       "      <td>Gallons</td>\n",
       "      <td>NO</td>\n",
       "    </tr>\n",
       "    <tr>\n",
       "      <th>187668</th>\n",
       "      <td>900797</td>\n",
       "      <td>CUMBERLAND FARMS #3141  RT 9 @ BOGHT RD LOUDON RD</td>\n",
       "      <td>1093 LOUDON RD RT 9 @ BOGHT RD</td>\n",
       "      <td>CUMBERLAND FARMS # 3141  1093 LOUDON RD</td>\n",
       "      <td>COHOES COLONIE</td>\n",
       "      <td>Albany</td>\n",
       "      <td>NaN</td>\n",
       "      <td>126</td>\n",
       "      <td>4</td>\n",
       "      <td>2009-04-21</td>\n",
       "      <td>2009-04-21</td>\n",
       "      <td>Other</td>\n",
       "      <td>NaN</td>\n",
       "      <td>Gasoline Station or other PBS Facility</td>\n",
       "      <td>2009-05-08</td>\n",
       "      <td>other  -  WATER</td>\n",
       "      <td>Other</td>\n",
       "      <td>0.0</td>\n",
       "      <td>Gallons</td>\n",
       "      <td>NO</td>\n",
       "    </tr>\n",
       "  </tbody>\n",
       "</table>\n",
       "</div>"
      ],
      "text/plain": [
       "        spill_number                              program_facility_name  \\\n",
       "187666       9707739                          KIKARI DENTAL RT 30 AGWAY   \n",
       "187667       1209420                                           POLE TOP   \n",
       "187668        900797  CUMBERLAND FARMS #3141  RT 9 @ BOGHT RD LOUDON RD   \n",
       "\n",
       "                              street_1  \\\n",
       "187666                4340 RT 30 NORTH   \n",
       "187667                  29 QUARRY LANE   \n",
       "187668  1093 LOUDON RD RT 9 @ BOGHT RD   \n",
       "\n",
       "                                       street_2        locality       county  \\\n",
       "187666                                      NaN       AMSTERDAM   Montgomery   \n",
       "187667                                      NaN         BEDFORD  Westchester   \n",
       "187668  CUMBERLAND FARMS # 3141  1093 LOUDON RD  COHOES COLONIE       Albany   \n",
       "\n",
       "       zip_code  swis_code  dec_region  spill_date received_date  \\\n",
       "187666      NaN       2920           4  1997-09-30    1997-09-30   \n",
       "187667      NaN       6020           3  2012-11-06    2012-11-06   \n",
       "187668      NaN        126           4  2009-04-21    2009-04-21   \n",
       "\n",
       "       contributing_factor waterbody                                  source  \\\n",
       "187666       Tank Overfill       NaN                              Tank Truck   \n",
       "187667               Storm       NaN                             Transformer   \n",
       "187668               Other       NaN  Gasoline Station or other PBS Facility   \n",
       "\n",
       "        close_date     material_name material_family  quantity    units  \\\n",
       "187666  1997-10-03       #2 fuel oil       Petroleum       0.0  Gallons   \n",
       "187667  2012-11-09  dielectric fluid       Petroleum      10.0  Gallons   \n",
       "187668  2009-05-08   other  -  WATER           Other       0.0  Gallons   \n",
       "\n",
       "       recovered  \n",
       "187666        NO  \n",
       "187667        NO  \n",
       "187668        NO  "
      ]
     },
     "execution_count": 4,
     "metadata": {},
     "output_type": "execute_result"
    }
   ],
   "source": [
    "data.tail(3)"
   ]
  },
  {
   "cell_type": "code",
   "execution_count": 50,
   "metadata": {},
   "outputs": [
    {
     "data": {
      "text/plain": [
       "spill_number               int64\n",
       "program_facility_name     object\n",
       "street_1                  object\n",
       "street_2                  object\n",
       "locality                  object\n",
       "county                    object\n",
       "zip_code                  object\n",
       "swis_code                  int64\n",
       "dec_region                 int64\n",
       "spill_date                object\n",
       "received_date             object\n",
       "contributing_factor       object\n",
       "waterbody                 object\n",
       "source                    object\n",
       "close_date                object\n",
       "material_name             object\n",
       "material_family           object\n",
       "quantity                 float64\n",
       "units                     object\n",
       "recovered                 object\n",
       "dtype: object"
      ]
     },
     "execution_count": 50,
     "metadata": {},
     "output_type": "execute_result"
    }
   ],
   "source": [
    "data.dtypes"
   ]
  },
  {
   "cell_type": "code",
   "execution_count": 6,
   "metadata": {},
   "outputs": [
    {
     "data": {
      "text/html": [
       "<div>\n",
       "<style scoped>\n",
       "    .dataframe tbody tr th:only-of-type {\n",
       "        vertical-align: middle;\n",
       "    }\n",
       "\n",
       "    .dataframe tbody tr th {\n",
       "        vertical-align: top;\n",
       "    }\n",
       "\n",
       "    .dataframe thead th {\n",
       "        text-align: right;\n",
       "    }\n",
       "</style>\n",
       "<table border=\"1\" class=\"dataframe\">\n",
       "  <thead>\n",
       "    <tr style=\"text-align: right;\">\n",
       "      <th></th>\n",
       "      <th>spill_number</th>\n",
       "      <th>swis_code</th>\n",
       "      <th>dec_region</th>\n",
       "      <th>quantity</th>\n",
       "    </tr>\n",
       "  </thead>\n",
       "  <tbody>\n",
       "    <tr>\n",
       "      <th>count</th>\n",
       "      <td>1.876690e+05</td>\n",
       "      <td>187669.000000</td>\n",
       "      <td>187669.000000</td>\n",
       "      <td>1.876690e+05</td>\n",
       "    </tr>\n",
       "    <tr>\n",
       "      <th>mean</th>\n",
       "      <td>4.442654e+06</td>\n",
       "      <td>3478.814391</td>\n",
       "      <td>3.992956</td>\n",
       "      <td>5.350332e+05</td>\n",
       "    </tr>\n",
       "    <tr>\n",
       "      <th>std</th>\n",
       "      <td>4.208655e+06</td>\n",
       "      <td>1717.484381</td>\n",
       "      <td>2.593400</td>\n",
       "      <td>2.308367e+08</td>\n",
       "    </tr>\n",
       "    <tr>\n",
       "      <th>min</th>\n",
       "      <td>1.000000e+00</td>\n",
       "      <td>100.000000</td>\n",
       "      <td>1.000000</td>\n",
       "      <td>0.000000e+00</td>\n",
       "    </tr>\n",
       "    <tr>\n",
       "      <th>25%</th>\n",
       "      <td>7.069440e+05</td>\n",
       "      <td>2401.000000</td>\n",
       "      <td>2.000000</td>\n",
       "      <td>0.000000e+00</td>\n",
       "    </tr>\n",
       "    <tr>\n",
       "      <th>50%</th>\n",
       "      <td>1.511169e+06</td>\n",
       "      <td>3400.000000</td>\n",
       "      <td>3.000000</td>\n",
       "      <td>0.000000e+00</td>\n",
       "    </tr>\n",
       "    <tr>\n",
       "      <th>75%</th>\n",
       "      <td>9.211040e+06</td>\n",
       "      <td>5200.000000</td>\n",
       "      <td>6.000000</td>\n",
       "      <td>5.000000e+00</td>\n",
       "    </tr>\n",
       "    <tr>\n",
       "      <th>max</th>\n",
       "      <td>9.975754e+06</td>\n",
       "      <td>9500.000000</td>\n",
       "      <td>9.000000</td>\n",
       "      <td>1.000000e+11</td>\n",
       "    </tr>\n",
       "  </tbody>\n",
       "</table>\n",
       "</div>"
      ],
      "text/plain": [
       "       spill_number      swis_code     dec_region      quantity\n",
       "count  1.876690e+05  187669.000000  187669.000000  1.876690e+05\n",
       "mean   4.442654e+06    3478.814391       3.992956  5.350332e+05\n",
       "std    4.208655e+06    1717.484381       2.593400  2.308367e+08\n",
       "min    1.000000e+00     100.000000       1.000000  0.000000e+00\n",
       "25%    7.069440e+05    2401.000000       2.000000  0.000000e+00\n",
       "50%    1.511169e+06    3400.000000       3.000000  0.000000e+00\n",
       "75%    9.211040e+06    5200.000000       6.000000  5.000000e+00\n",
       "max    9.975754e+06    9500.000000       9.000000  1.000000e+11"
      ]
     },
     "execution_count": 6,
     "metadata": {},
     "output_type": "execute_result"
    }
   ],
   "source": [
    "data.describe()"
   ]
  },
  {
   "cell_type": "code",
   "execution_count": 12,
   "metadata": {},
   "outputs": [
    {
     "name": "stdout",
     "output_type": "stream",
     "text": [
      "+-------------------+----------------+-----------+\n",
      "| Number of Columns | Number of Rows | File Size |\n",
      "+-------------------+----------------+-----------+\n",
      "|         20        |     187669     |  35570195 |\n",
      "+-------------------+----------------+-----------+\n"
     ]
    }
   ],
   "source": [
    "from prettytable import PrettyTable\n",
    "x = PrettyTable()\n",
    "\n",
    "x.field_names = ['Number of Columns','Number of Rows', 'File Size']\n",
    "x.add_row([data.shape[1], data.shape[0], os.path.getsize('spill_incidents_sample.csv')])\n",
    "print(x)"
   ]
  },
  {
   "cell_type": "markdown",
   "metadata": {},
   "source": [
    "#### Column Type Counts"
   ]
  },
  {
   "cell_type": "code",
   "execution_count": 55,
   "metadata": {},
   "outputs": [
    {
     "name": "stdout",
     "output_type": "stream",
     "text": [
      "+-------------+-------+\n",
      "| Column type | Count |\n",
      "+-------------+-------+\n",
      "|   Numeric   |   4   |\n",
      "|     Text    |   3   |\n",
      "| Categorical |   10  |\n",
      "|     Date    |   3   |\n",
      "+-------------+-------+\n"
     ]
    }
   ],
   "source": [
    "from dateutil.parser import parse\n",
    "\n",
    "def check_is_categorical(df, col):\n",
    "    unique_samples = len(df[col].unique())\n",
    "    total_samples = df[col].shape[0]\n",
    "    pct_diff = round((total_samples - unique_samples) / total_samples * 100,2)\n",
    "#     print(pct_diff)\n",
    "    if pct_diff <= 94:\n",
    "        return False # not categorical\n",
    "    else:\n",
    "        return True  # categorical\n",
    "    \n",
    "def check_is_date(df, col):\n",
    "    string = df[col].dropna().unique()[0]\n",
    "    try: \n",
    "        parse(string, fuzzy=False)\n",
    "        return True\n",
    "\n",
    "    except ValueError:\n",
    "        return False\n",
    "    \n",
    "    \n",
    "def get_column_type(df):\n",
    "    types = {'Numeric':len(data.select_dtypes(['int64','float64']).count()), 'Text':0,'Categorical':0, 'Date':0}\n",
    "    for col in df.columns:\n",
    "        sample = df[col].dropna().unique()[0]\n",
    "        if isinstance(sample, str):\n",
    "            res = check_is_date(df, col)\n",
    "            if res:\n",
    "                types['Date'] +=1\n",
    "            else:\n",
    "                res = check_is_categorical(df, col)\n",
    "                if res:\n",
    "                    types['Categorical'] += 1\n",
    "                else:\n",
    "                    types['Text'] += 1\n",
    "#     print(types)\n",
    "    return types\n",
    "\n",
    "\n",
    "x = PrettyTable()\n",
    "\n",
    "column_type = get_column_type(data)\n",
    "x.field_names = ['Column type', 'Count']\n",
    "\n",
    "for k,v in column_type.items():\n",
    "    x.add_row([k,v])\n",
    "print(x)"
   ]
  },
  {
   "cell_type": "markdown",
   "metadata": {},
   "source": [
    "#### Data completeness"
   ]
  },
  {
   "cell_type": "code",
   "execution_count": 56,
   "metadata": {},
   "outputs": [],
   "source": [
    "def calc_data_nullity(df):\n",
    "    df_nullity = df.isnull()\n",
    "    missing_values_sum = df_nullity.sum()\n",
    "    missing_values_percent = df_nullity.mean() * 100\n",
    "    return missing_values_sum, missing_values_percent\n",
    "\n",
    "missing_values_sum, missing_values_percent = calc_data_nullity(data)\n"
   ]
  },
  {
   "cell_type": "markdown",
   "metadata": {},
   "source": [
    "#### Total Missing Values"
   ]
  },
  {
   "cell_type": "code",
   "execution_count": 66,
   "metadata": {},
   "outputs": [
    {
     "name": "stdout",
     "output_type": "stream",
     "text": [
      "Total Missing Values\n",
      "+-----------------------+----------------------+\n",
      "|         Column        | Missing values Count |\n",
      "+-----------------------+----------------------+\n",
      "|      spill_number     |          0           |\n",
      "| program_facility_name |          3           |\n",
      "|        street_1       |          53          |\n",
      "|        street_2       |        172775        |\n",
      "|        locality       |         389          |\n",
      "|         county        |          0           |\n",
      "|        zip_code       |        171173        |\n",
      "|       swis_code       |          0           |\n",
      "|       dec_region      |          0           |\n",
      "|       spill_date      |          57          |\n",
      "|     received_date     |          0           |\n",
      "|  contributing_factor  |          0           |\n",
      "|       waterbody       |        170995        |\n",
      "|         source        |          0           |\n",
      "|       close_date      |         4302         |\n",
      "|     material_name     |          0           |\n",
      "|    material_family    |          0           |\n",
      "|        quantity       |          0           |\n",
      "|         units         |        29813         |\n",
      "|       recovered       |          0           |\n",
      "+-----------------------+----------------------+\n"
     ]
    }
   ],
   "source": [
    "x = PrettyTable()\n",
    "print('Total Missing Values')\n",
    "x.field_names = ['Column', 'Missing values Count']      \n",
    "for k,v in missing_values_sum.to_dict().items():\n",
    "    x.add_row([k,v])\n",
    "print(x)              "
   ]
  },
  {
   "cell_type": "markdown",
   "metadata": {},
   "source": [
    "#### Percentage of Missing Values"
   ]
  },
  {
   "cell_type": "code",
   "execution_count": 68,
   "metadata": {},
   "outputs": [
    {
     "name": "stdout",
     "output_type": "stream",
     "text": [
      "Total Missing Values\n",
      "+-----------------------+---------------------------+\n",
      "|         Column        | Missing values Percentage |\n",
      "+-----------------------+---------------------------+\n",
      "|      spill_number     |            0.0            |\n",
      "| program_facility_name |            0.0            |\n",
      "|        street_1       |            0.03           |\n",
      "|        street_2       |           92.06           |\n",
      "|        locality       |            0.21           |\n",
      "|         county        |            0.0            |\n",
      "|        zip_code       |           91.21           |\n",
      "|       swis_code       |            0.0            |\n",
      "|       dec_region      |            0.0            |\n",
      "|       spill_date      |            0.03           |\n",
      "|     received_date     |            0.0            |\n",
      "|  contributing_factor  |            0.0            |\n",
      "|       waterbody       |           91.12           |\n",
      "|         source        |            0.0            |\n",
      "|       close_date      |            2.29           |\n",
      "|     material_name     |            0.0            |\n",
      "|    material_family    |            0.0            |\n",
      "|        quantity       |            0.0            |\n",
      "|         units         |           15.89           |\n",
      "|       recovered       |            0.0            |\n",
      "+-----------------------+---------------------------+\n"
     ]
    }
   ],
   "source": [
    "x = PrettyTable()\n",
    "print('Total Missing Values')\n",
    "x.field_names = ['Column', 'Missing values Percentage']      \n",
    "for k,v in missing_values_percent.to_dict().items():\n",
    "    x.add_row([k,round(v,2)])\n",
    "print(x)              "
   ]
  },
  {
   "cell_type": "markdown",
   "metadata": {},
   "source": [
    "#### Visualize missingness"
   ]
  },
  {
   "cell_type": "code",
   "execution_count": 70,
   "metadata": {},
   "outputs": [
    {
     "data": {
      "text/plain": [
       "<AxesSubplot:>"
      ]
     },
     "execution_count": 70,
     "metadata": {},
     "output_type": "execute_result"
    },
    {
     "data": {
      "image/png": "[encoded data removed]",
      "text/plain": [
       "<Figure size 1728x720 with 3 Axes>"
      ]
     },
     "metadata": {
      "needs_background": "light"
     },
     "output_type": "display_data"
    }
   ],
   "source": [
    "import missingno as msno\n",
    "import matplotlib.pyplot as plt\n",
    "%matplotlib inline\n",
    "\n",
    "# Plot amount of missingness\n",
    "msno.bar(data)"
   ]
  },
  {
   "cell_type": "code",
   "execution_count": 7,
   "metadata": {},
   "outputs": [
    {
     "name": "stdout",
     "output_type": "stream",
     "text": [
      "Saving figure attribute_histogram_plots\n"
     ]
    },
    {
     "data": {
      "image/png": "[encoded data removed]",
      "text/plain": [
       "<Figure size 1440x1080 with 4 Axes>"
      ]
     },
     "metadata": {
      "needs_background": "light"
     },
     "output_type": "display_data"
    }
   ],
   "source": [
    "%matplotlib inline\n",
    "import matplotlib.pyplot as plt\n",
    "data.hist(bins=50, figsize=(20,15))\n",
    "save_fig(\"attribute_histogram_plots\")\n",
    "plt.show()"
   ]
  },
  {
   "cell_type": "code",
   "execution_count": 8,
   "metadata": {},
   "outputs": [],
   "source": [
    "# to make this notebook's output identical at every run\n",
    "np.random.seed(42)"
   ]
  },
  {
   "cell_type": "markdown",
   "metadata": {},
   "source": [
    "#### Check correlations"
   ]
  },
  {
   "cell_type": "code",
   "execution_count": null,
   "metadata": {},
   "outputs": [],
   "source": [
    "corr_matrix = data.corr()"
   ]
  },
  {
   "cell_type": "code",
   "execution_count": null,
   "metadata": {},
   "outputs": [],
   "source": [
    "from pandas.plotting import scatter_matrix\n",
    "\n",
    "attributes = [\"median_house_value\", \"median_income\", \"total_rooms\",\n",
    "              \"housing_median_age\"]\n",
    "scatter_matrix(housing[attributes], figsize=(12, 8))\n",
    "save_fig(\"scatter_matrix_plot\")"
   ]
  },
  {
   "cell_type": "code",
   "execution_count": 9,
   "metadata": {},
   "outputs": [
    {
     "data": {
      "text/plain": [
       "Index(['spill_number', 'program_facility_name', 'street_1', 'street_2',\n",
       "       'locality', 'county', 'zip_code', 'swis_code', 'dec_region',\n",
       "       'spill_date', 'received_date', 'contributing_factor', 'waterbody',\n",
       "       'source', 'close_date', 'material_name', 'material_family', 'quantity',\n",
       "       'units', 'recovered'],\n",
       "      dtype='object')"
      ]
     },
     "execution_count": 9,
     "metadata": {},
     "output_type": "execute_result"
    }
   ],
   "source": [
    "data.columns"
   ]
  },
  {
   "cell_type": "code",
   "execution_count": null,
   "metadata": {},
   "outputs": [],
   "source": []
  },
  {
   "cell_type": "code",
   "execution_count": null,
   "metadata": {},
   "outputs": [],
   "source": [
    "from sklearn.model_selection import train_test_split\n",
    "\n",
    "train_set, test_set = train_test_split(data, test_size=0.2, random_state=42)"
   ]
  }
 ],
 "metadata": {
  "kernelspec": {
   "display_name": "emerson",
   "language": "python",
   "name": "emerson"
  },
  "language_info": {
   "codemirror_mode": {
    "name": "ipython",
    "version": 3
   },
   "file_extension": ".py",
   "mimetype": "text/x-python",
   "name": "python",
   "nbconvert_exporter": "python",
   "pygments_lexer": "ipython3",
   "version": "3.7.3"
  }
 },
 "nbformat": 4,
 "nbformat_minor": 2
}
